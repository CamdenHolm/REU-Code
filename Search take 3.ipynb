{
 "cells": [
  {
   "cell_type": "code",
   "execution_count": 24,
   "metadata": {},
   "outputs": [
    {
     "name": "stdout",
     "output_type": "stream",
     "text": [
      "dev_count,applicant,decision_date,product_code,city,openfda.device_name,openfda.device_class,openfda.medical_specialty_description,date_received,state,address_1,advisory_committee_description,review_advisory_committee,third_party_flag,decision_description,decision_code,clearance_type,device_name,advisory_committee,contact,k_number,address_2,zip_code\n",
      "\n"
     ]
    }
   ],
   "source": [
    "import csv\n",
    "import re\n",
    "\n",
    "with open('2018-12-14-device-510k-0001-of-0001.csv','r') as csvFile:\n",
    "    csvFileArray = []\n",
    "    \n",
    "    with open('keywords.csv', 'r') as keywordFile:\n",
    "        keywordFileArray = []\n",
    "    \n",
    "        for row in csvFile:\n",
    "            keys = re.findall('Tissue| graft| graf| matrix| scaffold| filler| void filler| cement| electrosp| weave| woven| non-woven| nonwoven| mesh| ECM| extracellular| acellular| decellularized| recellularized|re-cellularized| seeded| resorbable | absorbable | resorb| sorb| degrad| biodegrad| membrane| tissue| growth factor| tgf-b |tissue growth factor-b | vegf | vascular endothelial growth factor-1| construct| fiber| infiltrat| pore| porous| proliferat| ingrowth| ongrowth| vasculariz| induct |inductive | induction| conduct | conductive|conduction| stimulat| replace| transform| cultured| fixation| morphogenic| BMP-1| IL-4| IL-13| angiopoietin-1 | ANG-1| metallopeptidase-8| metallopeptidase | MMP-8| viscoelastic| inelastic| lattice| differentiation| additive| bioglass| osteo| chondro| filament| penetration| silk| deposition| colonization', csvFile)\n",
    "            if keys in\n",
    "            csvFileArray.append(row)\n",
    "        print(csvFileArray[0])\n",
    "\n",
    "    \n",
    "    \n",
    "#keys = 'Tissue| graft| graf| matrix| scaffold| filler| void filler| cement| electrosp| weave| woven| non-woven| nonwoven| mesh| ECM| extracellular| acellular| decellularized| recellularized|re-cellularized| seeded| resorbable | absorbable | resorb| sorb| degrad| biodegrad| membrane| tissue| growth factor| tgf-b |tissue growth factor-b | vegf | vascular endothelial growth factor-1| construct| fiber| infiltrat| pore| porous| proliferat| ingrowth| ongrowth| vasculariz| induct |inductive | induction| conduct | conductive|conduction| stimulat| replace| transform| cultured| fixation| morphogenic| BMP-1| IL-4| IL-13| angiopoietin-1 | ANG-1| metallopeptidase-8| metallopeptidase | MMP-8| viscoelastic| inelastic| lattice| differentiation| additive| bioglass| osteo| chondro| filament| penetration| silk| deposition| colonization'   \n",
    "#print(results)\n"
   ]
  }
 ],
 "metadata": {
  "kernelspec": {
   "display_name": "Python 3",
   "language": "python",
   "name": "python3"
  },
  "language_info": {
   "codemirror_mode": {
    "name": "ipython",
    "version": 3
   },
   "file_extension": ".py",
   "mimetype": "text/x-python",
   "name": "python",
   "nbconvert_exporter": "python",
   "pygments_lexer": "ipython3",
   "version": "3.7.3"
  }
 },
 "nbformat": 4,
 "nbformat_minor": 2
}
